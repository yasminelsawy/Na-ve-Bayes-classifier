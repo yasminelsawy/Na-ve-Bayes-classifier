{
 "cells": [
  {
   "cell_type": "markdown",
   "metadata": {},
   "source": [
    "Team Members:\n",
    "    Yasmin Abdalla Farag Elsawy  34-2809\n",
    "    Mariam Mostafa Mohamed 34-3704"
   ]
  },
  {
   "cell_type": "code",
   "execution_count": 79,
   "metadata": {},
   "outputs": [],
   "source": [
    "import os\n",
    "import numpy as np\n",
    "import cv2 as cv\n",
    "import math\n",
    "from decimal import *\n",
    "import scipy.stats as stats\n",
    "import matplotlib.pyplot as plt"
   ]
  },
  {
   "cell_type": "markdown",
   "metadata": {},
   "source": [
    "Traning the data and calculating the Mean and standard deviation and the variance"
   ]
  },
  {
   "cell_type": "code",
   "execution_count": 71,
   "metadata": {},
   "outputs": [],
   "source": [
    "TrainImages = os.listdir(\"./Train\")\n",
    "TestImages = os.listdir(\"./Test\")\n",
    "classes = {}\n",
    "char = \"a\"\n",
    "\n",
    "while len(TrainImages) > 0:\n",
    "    j = 0\n",
    "    train7 = TrainImages[:7]\n",
    "    images = []\n",
    "    while j < 7:\n",
    "        tempImage = cv.imread('./Train/' + train7[j],0)\n",
    "        tempImage =tempImage/255\n",
    "        images.append(tempImage.reshape(1,144)[0])  \n",
    "        j += 1\n",
    "    pixels = []\n",
    "    x = 0\n",
    "    pixelDict = {}\n",
    "    while x < 144:\n",
    "        pixel = []\n",
    "        for image in images:\n",
    "            pixel.append(image[x])\n",
    "        mean = np.mean(pixel)\n",
    "        var = np.var(pixel)\n",
    "        std = np.std(pixel)\n",
    "        dictTemp = { \"mean\" : mean, \"var\" : var, \"std\" : std }\n",
    "        pixelDict.update({ x : dictTemp})\n",
    "        x += 1\n",
    "    classes.update({ char : pixelDict })\n",
    "    char = chr(ord(char) + 1) \n",
    "    TrainImages = TrainImages[7:]\n",
    "    \n"
   ]
  },
  {
   "cell_type": "markdown",
   "metadata": {},
   "source": [
    "This function calculates the probability of a certain pixel given the mean and variance for a certain class pixel"
   ]
  },
  {
   "cell_type": "code",
   "execution_count": 72,
   "metadata": {},
   "outputs": [],
   "source": [
    "def Probability(pixel, mean, var,sdv):        \n",
    "    \n",
    "    if var == 0:\n",
    "        return 0.1\n",
    "\n",
    "    num = pixel-mean\n",
    "    numm = math.pow(num,2) * -1\n",
    "    frac = (numm/(2*var))\n",
    "    exponent = math.exp(frac)\n",
    "    root = math.sqrt(2*math.pi* var) \n",
    "    prob= (1 / root ) * exponent\n",
    "    if prob < 0.1:\n",
    "        return 0.1\n",
    "    \n",
    "    \n",
    "    return prob\n",
    "    "
   ]
  },
  {
   "cell_type": "markdown",
   "metadata": {},
   "source": [
    "This function computes the probabilities for all the classes for a specific image"
   ]
  },
  {
   "cell_type": "code",
   "execution_count": 73,
   "metadata": {},
   "outputs": [],
   "source": [
    "def ProbabilitiesGuassian(classDict, pixelsVector):\n",
    "    probabilities = {}\n",
    "    \n",
    "    for classValue, pixelsDict in classDict.items():\n",
    "        probabilities[classValue] = 1\n",
    "        for i in range(len(pixelsVector)):\n",
    "            temp = pixelsDict[i]\n",
    "            mean = temp[\"mean\"]\n",
    "            var = temp[\"var\"]\n",
    "            sdv = temp[\"std\"]\n",
    "            x = pixelsVector[i]\n",
    "            tempo = Probability(x, mean, var,sdv)\n",
    "            if np.isnan(probabilities[classValue]):\n",
    "                return 0.1\n",
    "            probabilities[classValue] = probabilities[classValue] *tempo\n",
    "    return probabilities"
   ]
  },
  {
   "cell_type": "markdown",
   "metadata": {},
   "source": [
    "Here we are creating a dictionary to hold the True positives for each class label  "
   ]
  },
  {
   "cell_type": "code",
   "execution_count": 74,
   "metadata": {},
   "outputs": [],
   "source": [
    "TestDict={}\n",
    "charsDict=set()\n",
    "testSet = []\n",
    "for img in TestImages:\n",
    "    TempImage = cv.imread('./Test/' + img,0)\n",
    "    TempImage = TempImage/255\n",
    "    testSet.append(TempImage.reshape(1,144)[0])\n",
    "    Label = img[2]\n",
    "    if Label in charsDict:\n",
    "            TestDict[Label]['Ground Turth'].append(img)\n",
    "    else :\n",
    "        charsDict.add(Label)\n",
    "        TestDict[Label]={}\n",
    "        TestDict[Label]['Ground Turth']=[img]\n",
    "        TestDict[Label]['Prediction']=[]\n",
    "        TestDict[Label]['count']=0\n",
    "                "
   ]
  },
  {
   "cell_type": "markdown",
   "metadata": {},
   "source": [
    "Training the data"
   ]
  },
  {
   "cell_type": "code",
   "execution_count": 75,
   "metadata": {},
   "outputs": [],
   "source": [
    "for img in TestImages: \n",
    "    imgs = cv.imread('./Test/' + img,0)\n",
    "    imgs = imgs/255\n",
    "    imgs = imgs.reshape(1,144)[0]\n",
    "    probs= ProbabilitiesGuassian(classes,imgs)\n",
    "    labelj='NONE'\n",
    "    privouspron=probs['a']\n",
    "    for label,prob in probs.items():\n",
    "        if prob>= privouspron:\n",
    "            privouspron = prob\n",
    "            labelj = label\n",
    "    TestDict[labelj]['Prediction'].append(img)\n",
    "    if img in TestDict[labelj]['Ground Turth']:\n",
    "        TestDict[labelj]['count']+=1\n",
    "            \n",
    "        \n",
    "    "
   ]
  },
  {
   "cell_type": "code",
   "execution_count": 76,
   "metadata": {},
   "outputs": [],
   "source": [
    "Labels = []\n",
    "countLabel=[]\n",
    "for classValue, dictcionary in TestDict.items():\n",
    "    Labels.append(classValue)\n",
    "    countLabel.append(dictcionary['count'])"
   ]
  },
  {
   "cell_type": "code",
   "execution_count": 77,
   "metadata": {},
   "outputs": [
    {
     "name": "stdout",
     "output_type": "stream",
     "text": [
      "['a', 'b', 'c', 'd', 'e', 'f', 'g', 'h', 'i', 'j', 'k', 'l', 'm', 'n', 'o', 'p', 'q', 'r', 's', 't', 'u', 'v', 'w', 'x', 'y', 'z']\n",
      "[2, 2, 2, 2, 2, 2, 2, 2, 1, 2, 2, 2, 2, 2, 2, 2, 2, 2, 2, 2, 2, 2, 2, 2, 2, 2]\n"
     ]
    }
   ],
   "source": [
    "print(Labels)\n",
    "print(countLabel)"
   ]
  },
  {
   "cell_type": "code",
   "execution_count": 78,
   "metadata": {},
   "outputs": [
    {
     "data": {
      "image/png": "[encoded data removed]",
      "text/plain": [
       "<Figure size 432x288 with 1 Axes>"
      ]
     },
     "metadata": {
      "needs_background": "light"
     },
     "output_type": "display_data"
    }
   ],
   "source": [
    "plt.plot(Labels, countLabel, 'ro')\n",
    "plt.xlabel('Classes')\n",
    "plt.ylabel('Count')\n",
    "plt.savefig('Accuracy.jpg')\n",
    "plt.show()"
   ]
  },
  {
   "cell_type": "code",
   "execution_count": null,
   "metadata": {},
   "outputs": [],
   "source": []
  },
  {
   "cell_type": "code",
   "execution_count": null,
   "metadata": {},
   "outputs": [],
   "source": []
  },
  {
   "cell_type": "code",
   "execution_count": null,
   "metadata": {},
   "outputs": [],
   "source": []
  },
  {
   "cell_type": "code",
   "execution_count": null,
   "metadata": {},
   "outputs": [],
   "source": [
    "\n",
    "    \n",
    "    "
   ]
  },
  {
   "cell_type": "code",
   "execution_count": null,
   "metadata": {},
   "outputs": [],
   "source": [
    "\n"
   ]
  },
  {
   "cell_type": "code",
   "execution_count": null,
   "metadata": {},
   "outputs": [],
   "source": []
  },
  {
   "cell_type": "code",
   "execution_count": null,
   "metadata": {},
   "outputs": [],
   "source": []
  },
  {
   "cell_type": "code",
   "execution_count": null,
   "metadata": {},
   "outputs": [],
   "source": []
  }
 ],
 "metadata": {
  "kernelspec": {
   "display_name": "Python 3",
   "language": "python",
   "name": "python3"
  },
  "language_info": {
   "codemirror_mode": {
    "name": "ipython",
    "version": 3
   },
   "file_extension": ".py",
   "mimetype": "text/x-python",
   "name": "python",
   "nbconvert_exporter": "python",
   "pygments_lexer": "ipython3",
   "version": "3.6.8"
  }
 },
 "nbformat": 4,
 "nbformat_minor": 2
}
